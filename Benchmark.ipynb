{
 "cells": [
  {
   "cell_type": "markdown",
   "metadata": {},
   "source": [
    "# Initialization"
   ]
  },
  {
   "cell_type": "code",
   "execution_count": null,
   "metadata": {},
   "outputs": [],
   "source": [
    "import os\n",
    "\n",
    "# PyBoolNet initialization\n",
    "from pyboolnet.repository import get_all_names, get_bnet\n",
    "from pyboolnet.file_exchange import bnet2primes\n",
    "from pyboolnet.trap_spaces import compute_trap_spaces\n",
    "\n",
    "# BioLQM init\n",
    "import biolqm\n",
    "\n",
    "# trappist init\n",
    "import trappist"
   ]
  },
  {
   "cell_type": "code",
   "execution_count": null,
   "metadata": {},
   "outputs": [],
   "source": [
    "# compute trapspaces using PyBoolNet directly\n",
    "def bench_pyboolnet(models):\n",
    "    for model in models:\n",
    "        %timeit primes = bnet2primes(model + \".bnet\")\n",
    "        %timeit tspaces = compute_trap_spaces(primes, \"min\")\n",
    "        tspaces = compute_trap_spaces(bnet2primes(model + \".bnet\"), \"min\")\n",
    "        # print(f\"{model}: {len(tspaces)} minimal trap spaces\")"
   ]
  },
  {
   "cell_type": "code",
   "execution_count": null,
   "metadata": {},
   "outputs": [],
   "source": [
    "# compute trapspaces using trappist\n",
    "def bench_trappist(models):\n",
    "    for model in models:\n",
    "        %timeit biolqm.save(biolqm.load(model + \".bnet\"), model + \".pnml\")\n",
    "        %timeit trappist.compute_trap_spaces(model + \".pnml\")\n",
    "        tspaces = trappist.compute_trap_spaces(model + \".pnml\")\n",
    "        # print(f\"{model}: {len(list(tspaces))} minimal trap spaces\")"
   ]
  },
  {
   "cell_type": "markdown",
   "metadata": {},
   "source": [
    "## PyBoolNet repository\n",
    "\n",
    "Unfortunately all models are very easy"
   ]
  },
  {
   "cell_type": "code",
   "execution_count": null,
   "metadata": {},
   "outputs": [],
   "source": [
    "# all models from the PyBoolNet repository https://github.com/hklarner/pyboolnet/tree/master/pyboolnet/repository\n",
    "models = get_all_names()\n",
    "\n",
    "# save .bnet files locally\n",
    "for model in models:\n",
    "    net = get_bnet(model)\n",
    "    with open(model + \".bnet\", \"wt\") as f:\n",
    "        print(net, file=f)"
   ]
  },
  {
   "cell_type": "code",
   "execution_count": null,
   "metadata": {},
   "outputs": [],
   "source": [
    "bench_pyboolnet(models)"
   ]
  },
  {
   "cell_type": "code",
   "execution_count": null,
   "metadata": {},
   "outputs": [],
   "source": [
    "bench_trappist(models)"
   ]
  },
  {
   "cell_type": "markdown",
   "metadata": {},
   "source": [
    "## Local set of big models\n",
    "\n",
    "Collected from various bibliographic sources (see article for details)"
   ]
  },
  {
   "cell_type": "code",
   "execution_count": null,
   "metadata": {},
   "outputs": [],
   "source": [
    "# all models from the trappist's benchmark directory\n",
    "models = [name[:-5] for name in os.listdir(\"benchmark\") if name.endswith(\".bnet\")]\n",
    "\n",
    "# save .bnet files locally\n",
    "for model in models:\n",
    "    net = get_bnet(model)\n",
    "    with open(model + \".bnet\", \"wt\") as f:\n",
    "        print(net, file=f)"
   ]
  },
  {
   "cell_type": "code",
   "execution_count": null,
   "metadata": {},
   "outputs": [],
   "source": [
    "bench_pyboolnet(models)"
   ]
  },
  {
   "cell_type": "code",
   "execution_count": null,
   "metadata": {},
   "outputs": [],
   "source": [
    "bench_trappist(models)"
   ]
  }
 ],
 "metadata": {
  "kernelspec": {
   "display_name": "Python 3",
   "language": "python",
   "name": "python3"
  },
  "language_info": {
   "codemirror_mode": {
    "name": "ipython",
    "version": 3
   },
   "file_extension": ".py",
   "mimetype": "text/x-python",
   "name": "python",
   "nbconvert_exporter": "python",
   "pygments_lexer": "ipython3",
   "version": "3.9.12"
  }
 },
 "nbformat": 4,
 "nbformat_minor": 5
}
