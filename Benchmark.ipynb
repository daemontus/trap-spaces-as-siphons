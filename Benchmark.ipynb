{
 "cells": [
  {
   "cell_type": "markdown",
   "id": "f5485e7b",
   "metadata": {},
   "source": [
    "# Initialization"
   ]
  },
  {
   "cell_type": "code",
   "execution_count": null,
   "id": "873bf041",
   "metadata": {},
   "outputs": [],
   "source": [
    "import os\n",
    "from pathlib import Path\n",
    "import signal\n",
    "import time\n",
    "\n",
    "# PyBoolNet initialization\n",
    "from pyboolnet.repository import get_all_names, get_bnet\n",
    "from pyboolnet.file_exchange import bnet2primes\n",
    "from pyboolnet.trap_spaces import compute_trap_spaces\n",
    "\n",
    "# BioLQM init\n",
    "import biolqm\n",
    "\n",
    "# trappist init\n",
    "import trappist\n",
    "\n",
    "# timeout with signals\n",
    "class TimeOutException(Exception):\n",
    "   pass\n",
    "\n",
    "def handler():\n",
    "    raise TimeOutException()\n",
    "    \n",
    "signal.signal(signal.SIGALRM, handler)"
   ]
  },
  {
   "cell_type": "code",
   "execution_count": null,
   "id": "2131cd5f",
   "metadata": {},
   "outputs": [],
   "source": [
    "# compute trapspaces using PyBoolNet directly\n",
    "def bench_pyboolnet(models, max=1000, timeout=120):\n",
    "    for model in models:\n",
    "        print(model)\n",
    "        signal.alarm(timeout)\n",
    "        try:\n",
    "            start = time.perf_counter()\n",
    "            primes = bnet2primes(model + \".bnet\")\n",
    "            end = time.perf_counter()\n",
    "            print(f\"implicants: {end - start}s\")\n",
    "            tspaces = compute_trap_spaces(primes, \"min\", max_output=max)\n",
    "            end = time.perf_counter()\n",
    "            print(f\"trap spaces {end - start}s\\n===\")\n",
    "        except TimeOutException as ex:\n",
    "            print(\"DNF\")\n",
    "        signal.alarm(0)"
   ]
  },
  {
   "cell_type": "code",
   "execution_count": null,
   "id": "1e19d4fd",
   "metadata": {},
   "outputs": [],
   "source": [
    "# compute trapspaces using trappist\n",
    "def bench_trappist(models, max=1000, timeout=120):\n",
    "    for model in models:\n",
    "        print(model)\n",
    "        signal.alarm(timeout)\n",
    "        try:\n",
    "            start = time.perf_counter()\n",
    "            biolqm.save(biolqm.load(model + \".bnet\"), model + \".pnml\")\n",
    "            end = time.perf_counter()\n",
    "            print(f\"conversion: {end - start}s\")\n",
    "            trappist.compute_trap_spaces(model + \".pnml\", max_output=max)\n",
    "            end = time.perf_counter()\n",
    "            print(f\"trap spaces {end - start}s\\n===\")\n",
    "        except TimeOutException as ex:\n",
    "            print(\"DNF\")\n",
    "        signal.alarm(0)"
   ]
  },
  {
   "cell_type": "markdown",
   "id": "091488b8",
   "metadata": {},
   "source": [
    "## PyBoolNet repository\n",
    "\n",
    "Unfortunately all models are very easy"
   ]
  },
  {
   "cell_type": "code",
   "execution_count": null,
   "id": "f956f2f8",
   "metadata": {},
   "outputs": [],
   "source": [
    "# all models from the PyBoolNet repository https://github.com/hklarner/pyboolnet/tree/master/pyboolnet/repository\n",
    "models = get_all_names()\n",
    "\n",
    "# only the slowest ones\n",
    "models = ['jaoude_thdiff', 'n12c5', 'remy_tumorigenesis', 'selvaggio_emt']\n",
    "# but we have an issue with the PNML conversion of \"remy_tumorigenesis\"\n",
    "models = ['jaoude_thdiff', 'n12c5', 'selvaggio_emt']\n",
    "\n",
    "# save .bnet files locally\n",
    "for model in models:\n",
    "    net = get_bnet(model)\n",
    "    with open(model + \".bnet\", \"wt\") as f:\n",
    "        print(net, file=f)"
   ]
  },
  {
   "cell_type": "code",
   "execution_count": null,
   "id": "db46f124",
   "metadata": {},
   "outputs": [],
   "source": [
    "bench_pyboolnet(models)"
   ]
  },
  {
   "cell_type": "code",
   "execution_count": null,
   "id": "53e6ab51",
   "metadata": {},
   "outputs": [],
   "source": [
    "bench_trappist(models)"
   ]
  },
  {
   "cell_type": "markdown",
   "id": "bead2dad",
   "metadata": {},
   "source": [
    "## Local set of big models\n",
    "\n",
    "Collected from various bibliographic sources (see article for details)"
   ]
  },
  {
   "cell_type": "code",
   "execution_count": null,
   "id": "a06f77c7",
   "metadata": {},
   "outputs": [],
   "source": [
    "# all models from the trappist's benchmark directory\n",
    "models = [str(Path().absolute() / \"selected raw models\" / name[:-5]) for name in os.listdir(\"selected raw models\") if name.endswith(\".bnet\")]"
   ]
  },
  {
   "cell_type": "code",
   "execution_count": null,
   "id": "00c5bd99",
   "metadata": {},
   "outputs": [],
   "source": [
    "bench_pyboolnet(models)"
   ]
  },
  {
   "cell_type": "code",
   "execution_count": null,
   "id": "1073bac4",
   "metadata": {},
   "outputs": [],
   "source": [
    "bench_trappist(models)"
   ]
  },
  {
   "cell_type": "code",
   "execution_count": null,
   "id": "e5916661",
   "metadata": {},
   "outputs": [],
   "source": []
  }
 ],
 "metadata": {
  "kernelspec": {
   "display_name": "Python 3 (ipykernel)",
   "language": "python",
   "name": "python3"
  },
  "language_info": {
   "codemirror_mode": {
    "name": "ipython",
    "version": 3
   },
   "file_extension": ".py",
   "mimetype": "text/x-python",
   "name": "python",
   "nbconvert_exporter": "python",
   "pygments_lexer": "ipython3",
   "version": "3.9.12"
  }
 },
 "nbformat": 4,
 "nbformat_minor": 5
}
