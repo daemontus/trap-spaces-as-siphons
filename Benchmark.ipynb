{
 "cells": [
  {
   "cell_type": "markdown",
   "metadata": {},
   "source": [
    "# Initialization"
   ]
  },
  {
   "cell_type": "code",
   "execution_count": 1,
   "metadata": {},
   "outputs": [
    {
     "data": {
      "text/markdown": [
       "This notebook has been executed using the docker image `colomoto/colomoto-docker:2022-05-01`"
      ],
      "text/plain": [
       "<IPython.core.display.Markdown object>"
      ]
     },
     "metadata": {},
     "output_type": "display_data"
    },
    {
     "data": {
      "text/plain": [
       "<Handlers.SIG_DFL: 0>"
      ]
     },
     "execution_count": 1,
     "metadata": {},
     "output_type": "execute_result"
    }
   ],
   "source": [
    "import os\n",
    "from pathlib import Path\n",
    "import signal\n",
    "import time\n",
    "\n",
    "# PyBoolNet initialization\n",
    "from pyboolnet.repository import get_all_names, get_bnet\n",
    "from pyboolnet.file_exchange import bnet2primes\n",
    "from pyboolnet.trap_spaces import compute_trap_spaces\n",
    "\n",
    "# BioLQM init\n",
    "import biolqm\n",
    "\n",
    "# trappist init\n",
    "import trappist\n",
    "\n",
    "# timeout with signals\n",
    "class TimeOutException(Exception):\n",
    "   pass\n",
    "\n",
    "def handler(_signnum, _frame):\n",
    "    print(\"Timeout\")\n",
    "    raise TimeOutException()\n",
    "    \n",
    "signal.signal(signal.SIGALRM, handler)"
   ]
  },
  {
   "cell_type": "code",
   "execution_count": 2,
   "metadata": {},
   "outputs": [],
   "source": [
    "# compute trapspaces using PyBoolNet directly\n",
    "def bench_pyboolnet(models, max=1000, timeout=120):\n",
    "    for model in models:\n",
    "        print(model)\n",
    "        signal.alarm(timeout)\n",
    "        try:\n",
    "            start = time.perf_counter()\n",
    "            primes = bnet2primes(model + \".bnet\")\n",
    "            end = time.perf_counter()\n",
    "            print(f\"implicants: {end - start}s\")\n",
    "            tspaces = compute_trap_spaces(primes, \"min\", max_output=max)\n",
    "            end = time.perf_counter()\n",
    "            print(f\"{len(tspaces)} trap spaces {end - start}s\\n===\")\n",
    "        except TimeOutException as ex:\n",
    "            print(\"DNF\\n===\")\n",
    "        signal.alarm(0)"
   ]
  },
  {
   "cell_type": "code",
   "execution_count": 3,
   "metadata": {},
   "outputs": [],
   "source": [
    "# compute trapspaces using trappist\n",
    "def bench_trappist(models, max=1000, timeout=120):\n",
    "    for model in models:\n",
    "        print(model)\n",
    "        signal.alarm(timeout)\n",
    "        try:\n",
    "            start = time.perf_counter()\n",
    "            biolqm.save(biolqm.load(model + \".bnet\"), model + \".pnml\")\n",
    "            end = time.perf_counter()\n",
    "            print(f\"conversion: {end - start}s\")\n",
    "            tspaces = trappist.compute_trap_spaces(model + \".pnml\", max_output=max)\n",
    "            end = time.perf_counter()\n",
    "            print(f\"{len(list(tspaces))} trap spaces {end - start}s\\n===\")\n",
    "        except TimeOutException as ex:\n",
    "            print(\"DNF\\n===\")\n",
    "        signal.alarm(0)"
   ]
  },
  {
   "cell_type": "markdown",
   "metadata": {},
   "source": [
    "## PyBoolNet repository\n",
    "\n",
    "Unfortunately all models are very easy"
   ]
  },
  {
   "cell_type": "code",
   "execution_count": 4,
   "metadata": {},
   "outputs": [],
   "source": [
    "# all models from the PyBoolNet repository https://github.com/hklarner/pyboolnet/tree/master/pyboolnet/repository\n",
    "models = get_all_names()\n",
    "\n",
    "# only the slowest ones\n",
    "# models = ['jaoude_thdiff', 'n12c5', 'remy_tumorigenesis', 'selvaggio_emt']\n",
    "\n",
    "# save .bnet files locally\n",
    "for model in models:\n",
    "    net = get_bnet(model)\n",
    "    with open(model + \".bnet\", \"wt\") as f:\n",
    "        print(net, file=f)"
   ]
  },
  {
   "cell_type": "code",
   "execution_count": 5,
   "metadata": {},
   "outputs": [
    {
     "name": "stdout",
     "output_type": "stream",
     "text": [
      "jaoude_thdiff\n",
      "implicants: 1.2828891660319641s\n",
      "INFO there are possibly more than 1000 trap spaces.\n",
      "INFO increase MaxOutput to find out.\n",
      "1000 trap spaces 1.4223144280258566s\n",
      "===\n",
      "n12c5\n",
      "implicants: 31.515609591966495s\n",
      "5 trap spaces 31.54398177296389s\n",
      "===\n",
      "remy_tumorigenesis\n",
      "implicants: 1.6913005700334907s\n",
      "25 trap spaces 1.7177036459906958s\n",
      "===\n",
      "selvaggio_emt\n",
      "implicants: 0.8169596969964914s\n",
      "INFO there are possibly more than 1000 trap spaces.\n",
      "INFO increase MaxOutput to find out.\n",
      "1000 trap spaces 0.9372284739511088s\n",
      "===\n"
     ]
    }
   ],
   "source": [
    "bench_pyboolnet(models)"
   ]
  },
  {
   "cell_type": "code",
   "execution_count": 6,
   "metadata": {},
   "outputs": [
    {
     "name": "stdout",
     "output_type": "stream",
     "text": [
      "jaoude_thdiff\n",
      "conversion: 0.3728707139962353s\n",
      "1000 trap spaces 0.5578273219871335s\n",
      "===\n",
      "n12c5\n",
      "conversion: 0.01761878904653713s\n",
      "5 trap spaces 0.04292340204119682s\n",
      "===\n",
      "remy_tumorigenesis\n",
      "conversion: 0.026393020001705736s\n",
      "25 trap spaces 0.06600769102806225s\n",
      "===\n",
      "selvaggio_emt\n",
      "conversion: 0.03657483001006767s\n",
      "1000 trap spaces 0.21081806503934786s\n",
      "===\n"
     ]
    }
   ],
   "source": [
    "bench_trappist(models)"
   ]
  },
  {
   "cell_type": "markdown",
   "metadata": {},
   "source": [
    "## Local set of big models\n",
    "\n",
    "Collected from various bibliographic sources (see article for details)"
   ]
  },
  {
   "cell_type": "code",
   "execution_count": 7,
   "metadata": {},
   "outputs": [],
   "source": [
    "# all models from the trappist's benchmark directory\n",
    "models = [str(Path().absolute() / \"models\" / name[:-5]) for name in os.listdir(\"models\") if name.endswith(\".bnet\")]"
   ]
  },
  {
   "cell_type": "code",
   "execution_count": 8,
   "metadata": {},
   "outputs": [
    {
     "name": "stdout",
     "output_type": "stream",
     "text": [
      "/notebook/selected raw models/CASCADE3\n",
      "implicants: 79.66887543298071s\n",
      "1 trap spaces 79.71478978800587s\n",
      "===\n",
      "/notebook/selected raw models/KYNURENINE-PATHWAY\n",
      "implicants: 81.425493243034s\n",
      "1 trap spaces 81.46424335002666s\n",
      "===\n",
      "/notebook/selected raw models/SN5\n",
      "Timeout\n",
      "DNF\n",
      "/notebook/selected raw models/ERBB-RECEPTOR-SIGNALING\n",
      "Timeout\n",
      "DNF\n",
      "/notebook/selected raw models/Executable_file_for_cholocystokinin_model\n",
      "implicants: 0.34361790399998426s\n",
      "INFO there are possibly more than 1000 trap spaces.\n",
      "INFO increase MaxOutput to find out.\n",
      "1000 trap spaces 1.0530116260051727s\n",
      "===\n",
      "/notebook/selected raw models/korkut_2015a\n",
      "Timeout\n",
      "DNF\n",
      "/notebook/selected raw models/SIGNALING-PATHWAY-FOR-BUTANOL-PRODUCTION\n",
      "implicants: 0.17193889198824763s\n",
      "1 trap spaces 0.2433038970339112s\n",
      "===\n",
      "/notebook/selected raw models/Corral_ThIL17diff_15jan2021\n",
      "Timeout\n",
      "DNF\n",
      "/notebook/selected raw models/HIV-1\n",
      "Timeout\n",
      "DNF\n",
      "/notebook/selected raw models/Colitis_associated_colon_cancer\n",
      "implicants: 0.18831702001625672s\n",
      "5 trap spaces 0.3834202390280552s\n",
      "===\n",
      "/notebook/selected raw models/INTERFERON-1\n",
      "implicants: 8.493422905972693s\n",
      "2 trap spaces 8.592222754028626s\n",
      "===\n",
      "/notebook/selected raw models/TLGLSurvival\n",
      "implicants: 0.3832729439600371s\n",
      "3 trap spaces 0.45910436898702756s\n",
      "===\n",
      "/notebook/selected raw models/cho_2016_all_pos\n",
      "Timeout\n",
      "DNF\n",
      "/notebook/selected raw models/turei_2016\n",
      "Timeout\n",
      "DNF\n",
      "/notebook/selected raw models/Human_network\n",
      "Timeout\n",
      "DNF\n",
      "/notebook/selected raw models/TCR-TLR5-SIGNALING-2018\n",
      "implicants: 0.6861118520027958s\n",
      "48 trap spaces 0.83994299499318s\n",
      "===\n",
      "/notebook/selected raw models/Hernandez_TcellCheckPoints_13april2020\n",
      "implicants: 33.55295477103209s\n",
      "INFO there are possibly more than 1000 trap spaces.\n",
      "INFO increase MaxOutput to find out.\n",
      "1000 trap spaces 35.140608020010404s\n",
      "===\n",
      "/notebook/selected raw models/IMMUNE-SYSTEM\n",
      "Timeout\n",
      "DNF\n",
      "/notebook/selected raw models/HMOX1-PATHWAY\n",
      "implicants: 2.841487047029659s\n",
      "8 trap spaces 2.9861104550072923s\n",
      "===\n",
      "/notebook/selected raw models/Signaling_in_Macrophage_Activation\n",
      "implicants: 10.472034852020442s\n",
      "1 trap spaces 10.754310322983656s\n",
      "===\n",
      "/notebook/selected raw models/FIBROBLASTS\n",
      "Timeout\n",
      "DNF\n",
      "/notebook/selected raw models/S1_Table\n",
      "Timeout\n",
      "DNF\n",
      "/notebook/selected raw models/Regan2020_Adhesion_CIP_Migration_CellCycle_Apoptosis\n",
      "implicants: 42.87529615702806s\n",
      "78 trap spaces 43.926393643021584s\n",
      "===\n",
      "/notebook/selected raw models/SIGNALING-IN-PROSTATE-CANCER\n",
      "Timeout\n",
      "DNF\n",
      "/notebook/selected raw models/InflammatoryBowelDisease\n",
      "Timeout\n",
      "DNF\n",
      "/notebook/selected raw models/Influenza_A_Virus_Replication_Cycle\n",
      "implicants: 53.78913408704102s\n",
      "17 trap spaces 54.06384896003874s\n",
      "===\n",
      "/notebook/selected raw models/IL_6_Signalling\n",
      "implicants: 0.26194202102487907s\n",
      "1 trap spaces 0.40219399402849376s\n",
      "===\n",
      "/notebook/selected raw models/VIRUS-REPLICATION-CYCLE\n",
      "Timeout\n",
      "DNF\n",
      "/notebook/selected raw models/Executable_file_for_Alzheimer_model\n",
      "Timeout\n",
      "DNF\n",
      "/notebook/selected raw models/ER-STRESS\n",
      "implicants: 18.670599822013173s\n",
      "32 trap spaces 18.916261980019044s\n",
      "===\n",
      "/notebook/selected raw models/RA_apoptosis_executable_module\n",
      "Timeout\n",
      "DNF\n"
     ]
    }
   ],
   "source": [
    "bench_pyboolnet(models)"
   ]
  },
  {
   "cell_type": "code",
   "execution_count": 9,
   "metadata": {},
   "outputs": [
    {
     "name": "stdout",
     "output_type": "stream",
     "text": [
      "/notebook/selected raw models/CASCADE3\n",
      "conversion: 2.969967622018885s\n",
      "1 trap spaces 9.68063587602228s\n",
      "===\n",
      "/notebook/selected raw models/KYNURENINE-PATHWAY\n"
     ]
    },
    {
     "ename": "AssertionError",
     "evalue": "Error while loading model",
     "output_type": "error",
     "traceback": [
      "\u001b[0;31m---------------------------------------------------------------------------\u001b[0m",
      "\u001b[0;31mAssertionError\u001b[0m                            Traceback (most recent call last)",
      "Input \u001b[0;32mIn [9]\u001b[0m, in \u001b[0;36m<cell line: 1>\u001b[0;34m()\u001b[0m\n\u001b[0;32m----> 1\u001b[0m \u001b[43mbench_trappist\u001b[49m\u001b[43m(\u001b[49m\u001b[43mmodels\u001b[49m\u001b[43m)\u001b[49m\n",
      "Input \u001b[0;32mIn [3]\u001b[0m, in \u001b[0;36mbench_trappist\u001b[0;34m(models, max, timeout)\u001b[0m\n\u001b[1;32m      6\u001b[0m \u001b[38;5;28;01mtry\u001b[39;00m:\n\u001b[1;32m      7\u001b[0m     start \u001b[38;5;241m=\u001b[39m time\u001b[38;5;241m.\u001b[39mperf_counter()\n\u001b[0;32m----> 8\u001b[0m     biolqm\u001b[38;5;241m.\u001b[39msave(\u001b[43mbiolqm\u001b[49m\u001b[38;5;241;43m.\u001b[39;49m\u001b[43mload\u001b[49m\u001b[43m(\u001b[49m\u001b[43mmodel\u001b[49m\u001b[43m \u001b[49m\u001b[38;5;241;43m+\u001b[39;49m\u001b[43m \u001b[49m\u001b[38;5;124;43m\"\u001b[39;49m\u001b[38;5;124;43m.bnet\u001b[39;49m\u001b[38;5;124;43m\"\u001b[39;49m\u001b[43m)\u001b[49m, model \u001b[38;5;241m+\u001b[39m \u001b[38;5;124m\"\u001b[39m\u001b[38;5;124m.pnml\u001b[39m\u001b[38;5;124m\"\u001b[39m)\n\u001b[1;32m      9\u001b[0m     end \u001b[38;5;241m=\u001b[39m time\u001b[38;5;241m.\u001b[39mperf_counter()\n\u001b[1;32m     10\u001b[0m     \u001b[38;5;28mprint\u001b[39m(\u001b[38;5;124mf\u001b[39m\u001b[38;5;124m\"\u001b[39m\u001b[38;5;124mconversion: \u001b[39m\u001b[38;5;132;01m{\u001b[39;00mend \u001b[38;5;241m-\u001b[39m start\u001b[38;5;132;01m}\u001b[39;00m\u001b[38;5;124ms\u001b[39m\u001b[38;5;124m\"\u001b[39m)\n",
      "File \u001b[0;32m/opt/conda/lib/python3.9/site-packages/biolqm/__init__.py:155\u001b[0m, in \u001b[0;36mload\u001b[0;34m(filename, *args)\u001b[0m\n\u001b[1;32m    153\u001b[0m filename \u001b[38;5;241m=\u001b[39m ensure_localfile(filename)\n\u001b[1;32m    154\u001b[0m obj \u001b[38;5;241m=\u001b[39m japi\u001b[38;5;241m.\u001b[39mlqm\u001b[38;5;241m.\u001b[39mload(filename, \u001b[38;5;241m*\u001b[39margs)\n\u001b[0;32m--> 155\u001b[0m \u001b[38;5;28;01massert\u001b[39;00m obj \u001b[38;5;129;01mis\u001b[39;00m \u001b[38;5;129;01mnot\u001b[39;00m \u001b[38;5;28;01mNone\u001b[39;00m, \u001b[38;5;124m\"\u001b[39m\u001b[38;5;124mError while loading model\u001b[39m\u001b[38;5;124m\"\u001b[39m\n\u001b[1;32m    156\u001b[0m \u001b[38;5;28;01mreturn\u001b[39;00m obj\n",
      "\u001b[0;31mAssertionError\u001b[0m: Error while loading model"
     ]
    }
   ],
   "source": [
    "bench_trappist(models)"
   ]
  },
  {
   "cell_type": "code",
   "execution_count": null,
   "metadata": {},
   "outputs": [],
   "source": []
  }
 ],
 "metadata": {
  "kernelspec": {
   "display_name": "Python 3",
   "language": "python",
   "name": "python3"
  },
  "language_info": {
   "codemirror_mode": {
    "name": "ipython",
    "version": 3
   },
   "file_extension": ".py",
   "mimetype": "text/x-python",
   "name": "python",
   "nbconvert_exporter": "python",
   "pygments_lexer": "ipython3",
   "version": "3.9.12"
  }
 },
 "nbformat": 4,
 "nbformat_minor": 5
}
