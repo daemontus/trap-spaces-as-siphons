{
 "cells": [
  {
   "cell_type": "code",
   "execution_count": null,
   "id": "df690b0e",
   "metadata": {},
   "outputs": [],
   "source": [
    "# PyBoolNet initialization\n",
    "from pyboolnet.repository import get_all_names, get_bnet\n",
    "from pyboolnet.file_exchange import bnet2primes\n",
    "from pyboolnet.trap_spaces import compute_trap_spaces\n",
    "# BioLQM init\n",
    "import biolqm\n",
    "# trappist init\n",
    "import trappist"
   ]
  },
  {
   "cell_type": "code",
   "execution_count": null,
   "id": "8e3b67ad",
   "metadata": {},
   "outputs": [],
   "source": [
    "# all models from the PyBoolNet repository https://github.com/hklarner/pyboolnet/tree/master/pyboolnet/repository\n",
    "models = get_all_names()"
   ]
  },
  {
   "cell_type": "code",
   "execution_count": null,
   "id": "ae0e042b",
   "metadata": {},
   "outputs": [],
   "source": [
    "# save .bnet files locally\n",
    "for model in models:\n",
    "    net = get_bnet(model)\n",
    "    with open(model + \".bnet\", \"wt\") as f:\n",
    "        print(net, file=f)"
   ]
  },
  {
   "cell_type": "code",
   "execution_count": null,
   "id": "139feab1",
   "metadata": {},
   "outputs": [],
   "source": [
    "# convert to PNML using biolqm\n",
    "for model in models:\n",
    "    net = biolqm.load(model + \".bnet\")\n",
    "    biolqm.save(net, model + \".pnml\")"
   ]
  },
  {
   "cell_type": "code",
   "execution_count": null,
   "id": "95b5e5d2",
   "metadata": {},
   "outputs": [],
   "source": [
    "# compute trapspaces using PyBoolNet directly\n",
    "for model in models:\n",
    "    %timeit compute_trap_spaces(bnet2primes(model + \".bnet\"), \"min\")\n",
    "    tspaces = compute_trap_spaces(bnet2primes(model + \".bnet\"), \"min\")\n",
    "    print(f\"{model}: {len(tspaces)} minimal trap spaces\")"
   ]
  },
  {
   "cell_type": "code",
   "execution_count": null,
   "id": "09b8d91b",
   "metadata": {},
   "outputs": [],
   "source": [
    "# compute trapspaces using trappist\n",
    "for model in models:\n",
    "    %timeit trappist.compute_trap_spaces(model + \".pnml\")\n",
    "    tspaces = trappist.compute_trap_spaces(model + \".pnml\")\n",
    "    print(f\"{model}: {len(list(tspaces))} minimal trap spaces\")"
   ]
  }
 ],
 "metadata": {
  "kernelspec": {
   "display_name": "Python 3 (ipykernel)",
   "language": "python",
   "name": "python3"
  },
  "language_info": {
   "codemirror_mode": {
    "name": "ipython",
    "version": 3
   },
   "file_extension": ".py",
   "mimetype": "text/x-python",
   "name": "python",
   "nbconvert_exporter": "python",
   "pygments_lexer": "ipython3",
   "version": "3.9.12"
  }
 },
 "nbformat": 4,
 "nbformat_minor": 5
}
