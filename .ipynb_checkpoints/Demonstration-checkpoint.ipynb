{
 "cells": [
  {
   "cell_type": "markdown",
   "id": "4d42c676",
   "metadata": {},
   "source": [
    "# Initialization"
   ]
  },
  {
   "cell_type": "code",
   "execution_count": 1,
   "id": "9ba747d0",
   "metadata": {},
   "outputs": [
    {
     "ename": "ModuleNotFoundError",
     "evalue": "No module named 'biolqm'",
     "output_type": "error",
     "traceback": [
      "\u001b[0;31m---------------------------------------------------------------------------\u001b[0m",
      "\u001b[0;31mModuleNotFoundError\u001b[0m                       Traceback (most recent call last)",
      "\u001b[0;32m/tmp/ipykernel_10634/552350950.py\u001b[0m in \u001b[0;36m<module>\u001b[0;34m\u001b[0m\n\u001b[1;32m     10\u001b[0m \u001b[0;34m\u001b[0m\u001b[0m\n\u001b[1;32m     11\u001b[0m \u001b[0;31m# BioLQM init\u001b[0m\u001b[0;34m\u001b[0m\u001b[0;34m\u001b[0m\u001b[0m\n\u001b[0;32m---> 12\u001b[0;31m \u001b[0;32mimport\u001b[0m \u001b[0mbiolqm\u001b[0m\u001b[0;34m\u001b[0m\u001b[0;34m\u001b[0m\u001b[0m\n\u001b[0m\u001b[1;32m     13\u001b[0m \u001b[0;34m\u001b[0m\u001b[0m\n\u001b[1;32m     14\u001b[0m \u001b[0;31m# trappist init\u001b[0m\u001b[0;34m\u001b[0m\u001b[0;34m\u001b[0m\u001b[0m\n",
      "\u001b[0;31mModuleNotFoundError\u001b[0m: No module named 'biolqm'"
     ]
    }
   ],
   "source": [
    "import os\n",
    "from pathlib import Path\n",
    "import signal\n",
    "import time\n",
    "\n",
    "# PyBoolNet initialization\n",
    "from pyboolnet.repository import get_all_names, get_bnet\n",
    "from pyboolnet.file_exchange import bnet2primes\n",
    "from pyboolnet.trap_spaces import compute_trap_spaces\n",
    "\n",
    "# BioLQM init\n",
    "import biolqm\n",
    "\n",
    "# trappist init\n",
    "import trappist\n",
    "\n",
    "# timeout with signals\n",
    "class TimeOutException(Exception):\n",
    "   pass\n",
    "\n",
    "def handler(_signnum, _frame):\n",
    "    print(\"Timeout\")\n",
    "    raise TimeOutException()\n",
    "    \n",
    "signal.signal(signal.SIGALRM, handler)"
   ]
  },
  {
   "cell_type": "code",
   "execution_count": 2,
   "id": "a1385c2d",
   "metadata": {},
   "outputs": [],
   "source": [
    "# compute trapspaces using PyBoolNet directly\n",
    "def bench_pyboolnet(models, max=1000, timeout=120):\n",
    "    for model in models:\n",
    "        print(model)\n",
    "        primes = None\n",
    "        signal.alarm(timeout)\n",
    "        try:\n",
    "            start = time.perf_counter()\n",
    "            primes = bnet2primes(model + \".bnet\")\n",
    "            tspaces = compute_trap_spaces(primes, \"min\", max_output=max)\n",
    "            end = time.perf_counter()\n",
    "            print(f\"{len(tspaces)} trap spaces {end - start:.2f}\\n===\")\n",
    "        except TimeOutException:\n",
    "            print(f\"DNF{'(bnet2primes)' if primes is None else ''}\\n===\")\n",
    "        signal.alarm(0)"
   ]
  },
  {
   "cell_type": "code",
   "execution_count": 3,
   "id": "ff274323",
   "metadata": {},
   "outputs": [],
   "source": [
    "# compute trapspaces using trappist\n",
    "def bench_trappist(models, max=1000, timeout=120, method=\"asp\"):\n",
    "    for model in models:\n",
    "        print(model)\n",
    "        signal.alarm(timeout)\n",
    "        try:\n",
    "            start = time.perf_counter()\n",
    "            biolqm.save(biolqm.load(model + \".bnet\"), model + \".pnml\")\n",
    "            # end = time.perf_counter()\n",
    "            # print(f\"conversion: {end - start}s\")\n",
    "            tspaces = trappist.compute_trap_spaces(model + \".pnml\", max_output=max, method=method)\n",
    "            end = time.perf_counter()\n",
    "            print(f\"{len(list(tspaces))} trap spaces {end - start:.2f}\\n===\")\n",
    "        # we need to catch our TimeOutException, but it raises a Py4J exception too…\n",
    "        except:\n",
    "            print(\"DNF\\n===\")\n",
    "        signal.alarm(0)"
   ]
  },
  {
   "cell_type": "markdown",
   "id": "4c30ceb3",
   "metadata": {},
   "source": [
    "## PyBoolNet repository\n",
    "\n",
    "Unfortunately all models are very easy"
   ]
  },
  {
   "cell_type": "code",
   "execution_count": 4,
   "id": "1e6cbbbf",
   "metadata": {},
   "outputs": [],
   "source": [
    "# all models from the PyBoolNet repository https://github.com/hklarner/pyboolnet/tree/master/pyboolnet/repository\n",
    "models = get_all_names()\n",
    "\n",
    "# only the slowest ones\n",
    "# models = ['jaoude_thdiff', 'n12c5', 'remy_tumorigenesis', 'selvaggio_emt']\n",
    "\n",
    "# save .bnet files locally\n",
    "for model in models:\n",
    "    net = get_bnet(model)\n",
    "    with open(model + \".bnet\", \"wt\") as f:\n",
    "        print(net, file=f)"
   ]
  },
  {
   "cell_type": "code",
   "execution_count": null,
   "id": "832b142d",
   "metadata": {},
   "outputs": [],
   "source": [
    "bench_pyboolnet(models)"
   ]
  },
  {
   "cell_type": "code",
   "execution_count": null,
   "id": "b353687e",
   "metadata": {},
   "outputs": [],
   "source": [
    "bench_trappist(models, method=\"asp\")"
   ]
  },
  {
   "cell_type": "code",
   "execution_count": null,
   "id": "175eaca9",
   "metadata": {},
   "outputs": [],
   "source": [
    "bench_trappist(models, method=\"sat\")"
   ]
  },
  {
   "cell_type": "markdown",
   "id": "645d664f",
   "metadata": {},
   "source": [
    "## Local set of big models\n",
    "\n",
    "Collected from various bibliographic sources (see article for details)"
   ]
  },
  {
   "cell_type": "code",
   "execution_count": 7,
   "id": "2e001d2e",
   "metadata": {},
   "outputs": [],
   "source": [
    "# all models from the trappist's benchmark directory\n",
    "models = [str(Path().absolute() / \"models\" / name[:-5]) for name in os.listdir(\"models\") if name.endswith(\".bnet\")]"
   ]
  },
  {
   "cell_type": "code",
   "execution_count": null,
   "id": "6d607744",
   "metadata": {},
   "outputs": [],
   "source": [
    "bench_pyboolnet(models)"
   ]
  },
  {
   "cell_type": "code",
   "execution_count": null,
   "id": "75b5c67a",
   "metadata": {},
   "outputs": [],
   "source": [
    "bench_trappist(models, method=\"asp\")"
   ]
  },
  {
   "cell_type": "code",
   "execution_count": null,
   "id": "08687a9c",
   "metadata": {},
   "outputs": [],
   "source": [
    "bench_trappist(models, max=0, method=\"asp\")"
   ]
  },
  {
   "cell_type": "code",
   "execution_count": null,
   "id": "fa4fac50",
   "metadata": {},
   "outputs": [],
   "source": [
    "bench_trappist(models, method=\"sat\")"
   ]
  },
  {
   "cell_type": "code",
   "execution_count": null,
   "id": "ce462287",
   "metadata": {},
   "outputs": [],
   "source": [
    "bench_trappist(models, max=0, method=\"sat\")"
   ]
  }
 ],
 "metadata": {
  "kernelspec": {
   "display_name": "Python 3 (ipykernel)",
   "language": "python",
   "name": "python3"
  },
  "language_info": {
   "codemirror_mode": {
    "name": "ipython",
    "version": 3
   },
   "file_extension": ".py",
   "mimetype": "text/x-python",
   "name": "python",
   "nbconvert_exporter": "python",
   "pygments_lexer": "ipython3",
   "version": "3.9.7"
  }
 },
 "nbformat": 4,
 "nbformat_minor": 5
}
